{
 "cells": [
  {
   "cell_type": "code",
   "execution_count": 58,
   "id": "fa438761-1f3b-4a57-b201-a31418883587",
   "metadata": {},
   "outputs": [
    {
     "name": "stderr",
     "output_type": "stream",
     "text": [
      "[nltk_data] Downloading package stopwords to\n",
      "[nltk_data]     C:\\Users\\Atharva\\AppData\\Roaming\\nltk_data...\n",
      "[nltk_data]   Package stopwords is already up-to-date!\n",
      "[nltk_data] Downloading package punkt to\n",
      "[nltk_data]     C:\\Users\\Atharva\\AppData\\Roaming\\nltk_data...\n",
      "[nltk_data]   Package punkt is already up-to-date!\n",
      "[nltk_data] Downloading package wordnet to\n",
      "[nltk_data]     C:\\Users\\Atharva\\AppData\\Roaming\\nltk_data...\n",
      "[nltk_data]   Package wordnet is already up-to-date!\n",
      "[nltk_data] Downloading package averaged_perceptron_tagger to\n",
      "[nltk_data]     C:\\Users\\Atharva\\AppData\\Roaming\\nltk_data...\n",
      "[nltk_data]   Package averaged_perceptron_tagger is already up-to-\n",
      "[nltk_data]       date!\n",
      "[nltk_data] Error loading Punkt_tab: Package 'Punkt_tab' not found in\n",
      "[nltk_data]     index\n"
     ]
    },
    {
     "data": {
      "text/plain": [
       "False"
      ]
     },
     "execution_count": 58,
     "metadata": {},
     "output_type": "execute_result"
    }
   ],
   "source": [
    "import nltk\n",
    "nltk.download('stopwords')\n",
    "nltk.download('punkt')\n",
    "nltk.download('wordnet')\n",
    "nltk.download('averaged_perceptron_tagger')\n",
    "nltk.download('Punkt_tab')"
   ]
  },
  {
   "cell_type": "code",
   "execution_count": 59,
   "id": "5f484e9a-8e9a-4b36-9854-f95dffcf9885",
   "metadata": {},
   "outputs": [],
   "source": [
    "para='Artificial intelligence is rapidly transforming the world we live in. From self-driving cars to virtual assistants, AI is playing a crucial role in shaping the future. However, with this technological advancement comes the responsibility to ensure ethical and unbiased development. Researchers and developers must work together to create systems that are transparent, accountable, and beneficial for all of humanity'"
   ]
  },
  {
   "cell_type": "code",
   "execution_count": 60,
   "id": "87f846b4-6acd-4400-bc67-5829ff7b66ac",
   "metadata": {},
   "outputs": [
    {
     "name": "stdout",
     "output_type": "stream",
     "text": [
      "Artificial intelligence is rapidly transforming the world we live in. From self-driving cars to virtual assistants, AI is playing a crucial role in shaping the future. However, with this technological advancement comes the responsibility to ensure ethical and unbiased development. Researchers and developers must work together to create systems that are transparent, accountable, and beneficial for all of humanity\n"
     ]
    }
   ],
   "source": [
    "print(para)"
   ]
  },
  {
   "cell_type": "code",
   "execution_count": 61,
   "id": "282c0fb9-ac03-4ff1-9ba8-2bce4368407b",
   "metadata": {},
   "outputs": [
    {
     "data": {
      "text/plain": [
       "['Artificial',\n",
       " 'intelligence',\n",
       " 'is',\n",
       " 'rapidly',\n",
       " 'transforming',\n",
       " 'the',\n",
       " 'world',\n",
       " 'we',\n",
       " 'live',\n",
       " 'in.',\n",
       " 'From',\n",
       " 'self-driving',\n",
       " 'cars',\n",
       " 'to',\n",
       " 'virtual',\n",
       " 'assistants,',\n",
       " 'AI',\n",
       " 'is',\n",
       " 'playing',\n",
       " 'a',\n",
       " 'crucial',\n",
       " 'role',\n",
       " 'in',\n",
       " 'shaping',\n",
       " 'the',\n",
       " 'future.',\n",
       " 'However,',\n",
       " 'with',\n",
       " 'this',\n",
       " 'technological',\n",
       " 'advancement',\n",
       " 'comes',\n",
       " 'the',\n",
       " 'responsibility',\n",
       " 'to',\n",
       " 'ensure',\n",
       " 'ethical',\n",
       " 'and',\n",
       " 'unbiased',\n",
       " 'development.',\n",
       " 'Researchers',\n",
       " 'and',\n",
       " 'developers',\n",
       " 'must',\n",
       " 'work',\n",
       " 'together',\n",
       " 'to',\n",
       " 'create',\n",
       " 'systems',\n",
       " 'that',\n",
       " 'are',\n",
       " 'transparent,',\n",
       " 'accountable,',\n",
       " 'and',\n",
       " 'beneficial',\n",
       " 'for',\n",
       " 'all',\n",
       " 'of',\n",
       " 'humanity']"
      ]
     },
     "execution_count": 61,
     "metadata": {},
     "output_type": "execute_result"
    }
   ],
   "source": [
    "para.split()"
   ]
  },
  {
   "cell_type": "code",
   "execution_count": 62,
   "id": "9f646a28-1188-40b8-9b3b-3abac12751fa",
   "metadata": {},
   "outputs": [],
   "source": [
    "from nltk.tokenize import sent_tokenize\n",
    "from nltk.tokenize import word_tokenize"
   ]
  },
  {
   "cell_type": "code",
   "execution_count": 63,
   "id": "8158d048-86ac-439d-ba0d-fd84827ca0d0",
   "metadata": {},
   "outputs": [],
   "source": [
    "sent=sent_tokenize (para)"
   ]
  },
  {
   "cell_type": "code",
   "execution_count": 64,
   "id": "7ceabc76-6bb7-4723-a274-0561ec601523",
   "metadata": {},
   "outputs": [
    {
     "data": {
      "text/plain": [
       "'However, with this technological advancement comes the responsibility to ensure ethical and unbiased development.'"
      ]
     },
     "execution_count": 64,
     "metadata": {},
     "output_type": "execute_result"
    }
   ],
   "source": [
    "sent[2]"
   ]
  },
  {
   "cell_type": "code",
   "execution_count": 65,
   "id": "c4acf71a-8f70-4b4e-8564-4df957472e59",
   "metadata": {},
   "outputs": [],
   "source": [
    "words=word_tokenize(para)"
   ]
  },
  {
   "cell_type": "code",
   "execution_count": 66,
   "id": "7b3452d2-5611-4fc8-999f-caac75ff9c1b",
   "metadata": {},
   "outputs": [
    {
     "data": {
      "text/plain": [
       "['Artificial',\n",
       " 'intelligence',\n",
       " 'is',\n",
       " 'rapidly',\n",
       " 'transforming',\n",
       " 'the',\n",
       " 'world',\n",
       " 'we',\n",
       " 'live',\n",
       " 'in',\n",
       " '.',\n",
       " 'From',\n",
       " 'self-driving',\n",
       " 'cars',\n",
       " 'to',\n",
       " 'virtual',\n",
       " 'assistants',\n",
       " ',',\n",
       " 'AI',\n",
       " 'is',\n",
       " 'playing',\n",
       " 'a',\n",
       " 'crucial',\n",
       " 'role',\n",
       " 'in',\n",
       " 'shaping',\n",
       " 'the',\n",
       " 'future',\n",
       " '.',\n",
       " 'However',\n",
       " ',',\n",
       " 'with',\n",
       " 'this',\n",
       " 'technological',\n",
       " 'advancement',\n",
       " 'comes',\n",
       " 'the',\n",
       " 'responsibility',\n",
       " 'to',\n",
       " 'ensure',\n",
       " 'ethical',\n",
       " 'and',\n",
       " 'unbiased',\n",
       " 'development',\n",
       " '.',\n",
       " 'Researchers',\n",
       " 'and',\n",
       " 'developers',\n",
       " 'must',\n",
       " 'work',\n",
       " 'together',\n",
       " 'to',\n",
       " 'create',\n",
       " 'systems',\n",
       " 'that',\n",
       " 'are',\n",
       " 'transparent',\n",
       " ',',\n",
       " 'accountable',\n",
       " ',',\n",
       " 'and',\n",
       " 'beneficial',\n",
       " 'for',\n",
       " 'all',\n",
       " 'of',\n",
       " 'humanity']"
      ]
     },
     "execution_count": 66,
     "metadata": {},
     "output_type": "execute_result"
    }
   ],
   "source": [
    "words"
   ]
  },
  {
   "cell_type": "code",
   "execution_count": 67,
   "id": "db0ce865-7555-41f7-ad2b-ce113c3114bf",
   "metadata": {},
   "outputs": [],
   "source": [
    "from nltk.corpus import stopwords"
   ]
  },
  {
   "cell_type": "code",
   "execution_count": 68,
   "id": "7db64b76-4c44-45c1-bcb0-bb95084d71c7",
   "metadata": {},
   "outputs": [],
   "source": [
    "swords=stopwords.words('english')"
   ]
  },
  {
   "cell_type": "code",
   "execution_count": 69,
   "id": "3d53aa73-8437-4f2a-b7db-750113a31d3a",
   "metadata": {},
   "outputs": [
    {
     "data": {
      "text/plain": [
       "['a',\n",
       " 'about',\n",
       " 'above',\n",
       " 'after',\n",
       " 'again',\n",
       " 'against',\n",
       " 'ain',\n",
       " 'all',\n",
       " 'am',\n",
       " 'an',\n",
       " 'and',\n",
       " 'any',\n",
       " 'are',\n",
       " 'aren',\n",
       " \"aren't\",\n",
       " 'as',\n",
       " 'at',\n",
       " 'be',\n",
       " 'because',\n",
       " 'been',\n",
       " 'before',\n",
       " 'being',\n",
       " 'below',\n",
       " 'between',\n",
       " 'both',\n",
       " 'but',\n",
       " 'by',\n",
       " 'can',\n",
       " 'couldn',\n",
       " \"couldn't\",\n",
       " 'd',\n",
       " 'did',\n",
       " 'didn',\n",
       " \"didn't\",\n",
       " 'do',\n",
       " 'does',\n",
       " 'doesn',\n",
       " \"doesn't\",\n",
       " 'doing',\n",
       " 'don',\n",
       " \"don't\",\n",
       " 'down',\n",
       " 'during',\n",
       " 'each',\n",
       " 'few',\n",
       " 'for',\n",
       " 'from',\n",
       " 'further',\n",
       " 'had',\n",
       " 'hadn',\n",
       " \"hadn't\",\n",
       " 'has',\n",
       " 'hasn',\n",
       " \"hasn't\",\n",
       " 'have',\n",
       " 'haven',\n",
       " \"haven't\",\n",
       " 'having',\n",
       " 'he',\n",
       " \"he'd\",\n",
       " \"he'll\",\n",
       " 'her',\n",
       " 'here',\n",
       " 'hers',\n",
       " 'herself',\n",
       " \"he's\",\n",
       " 'him',\n",
       " 'himself',\n",
       " 'his',\n",
       " 'how',\n",
       " 'i',\n",
       " \"i'd\",\n",
       " 'if',\n",
       " \"i'll\",\n",
       " \"i'm\",\n",
       " 'in',\n",
       " 'into',\n",
       " 'is',\n",
       " 'isn',\n",
       " \"isn't\",\n",
       " 'it',\n",
       " \"it'd\",\n",
       " \"it'll\",\n",
       " \"it's\",\n",
       " 'its',\n",
       " 'itself',\n",
       " \"i've\",\n",
       " 'just',\n",
       " 'll',\n",
       " 'm',\n",
       " 'ma',\n",
       " 'me',\n",
       " 'mightn',\n",
       " \"mightn't\",\n",
       " 'more',\n",
       " 'most',\n",
       " 'mustn',\n",
       " \"mustn't\",\n",
       " 'my',\n",
       " 'myself',\n",
       " 'needn',\n",
       " \"needn't\",\n",
       " 'no',\n",
       " 'nor',\n",
       " 'not',\n",
       " 'now',\n",
       " 'o',\n",
       " 'of',\n",
       " 'off',\n",
       " 'on',\n",
       " 'once',\n",
       " 'only',\n",
       " 'or',\n",
       " 'other',\n",
       " 'our',\n",
       " 'ours',\n",
       " 'ourselves',\n",
       " 'out',\n",
       " 'over',\n",
       " 'own',\n",
       " 're',\n",
       " 's',\n",
       " 'same',\n",
       " 'shan',\n",
       " \"shan't\",\n",
       " 'she',\n",
       " \"she'd\",\n",
       " \"she'll\",\n",
       " \"she's\",\n",
       " 'should',\n",
       " 'shouldn',\n",
       " \"shouldn't\",\n",
       " \"should've\",\n",
       " 'so',\n",
       " 'some',\n",
       " 'such',\n",
       " 't',\n",
       " 'than',\n",
       " 'that',\n",
       " \"that'll\",\n",
       " 'the',\n",
       " 'their',\n",
       " 'theirs',\n",
       " 'them',\n",
       " 'themselves',\n",
       " 'then',\n",
       " 'there',\n",
       " 'these',\n",
       " 'they',\n",
       " \"they'd\",\n",
       " \"they'll\",\n",
       " \"they're\",\n",
       " \"they've\",\n",
       " 'this',\n",
       " 'those',\n",
       " 'through',\n",
       " 'to',\n",
       " 'too',\n",
       " 'under',\n",
       " 'until',\n",
       " 'up',\n",
       " 've',\n",
       " 'very',\n",
       " 'was',\n",
       " 'wasn',\n",
       " \"wasn't\",\n",
       " 'we',\n",
       " \"we'd\",\n",
       " \"we'll\",\n",
       " \"we're\",\n",
       " 'were',\n",
       " 'weren',\n",
       " \"weren't\",\n",
       " \"we've\",\n",
       " 'what',\n",
       " 'when',\n",
       " 'where',\n",
       " 'which',\n",
       " 'while',\n",
       " 'who',\n",
       " 'whom',\n",
       " 'why',\n",
       " 'will',\n",
       " 'with',\n",
       " 'won',\n",
       " \"won't\",\n",
       " 'wouldn',\n",
       " \"wouldn't\",\n",
       " 'y',\n",
       " 'you',\n",
       " \"you'd\",\n",
       " \"you'll\",\n",
       " 'your',\n",
       " \"you're\",\n",
       " 'yours',\n",
       " 'yourself',\n",
       " 'yourselves',\n",
       " \"you've\"]"
      ]
     },
     "execution_count": 69,
     "metadata": {},
     "output_type": "execute_result"
    }
   ],
   "source": [
    "swords"
   ]
  },
  {
   "cell_type": "code",
   "execution_count": 70,
   "id": "12235157-2536-495b-9ec3-53c32394a7a3",
   "metadata": {},
   "outputs": [],
   "source": [
    "x=[word for word in words if word.lower() not in swords]"
   ]
  },
  {
   "cell_type": "code",
   "execution_count": 71,
   "id": "dcb5d21f-ec05-4d32-980b-f6d8f9ed25f6",
   "metadata": {},
   "outputs": [
    {
     "data": {
      "text/plain": [
       "['Artificial',\n",
       " 'intelligence',\n",
       " 'rapidly',\n",
       " 'transforming',\n",
       " 'world',\n",
       " 'live',\n",
       " '.',\n",
       " 'self-driving',\n",
       " 'cars',\n",
       " 'virtual',\n",
       " 'assistants',\n",
       " ',',\n",
       " 'AI',\n",
       " 'playing',\n",
       " 'crucial',\n",
       " 'role',\n",
       " 'shaping',\n",
       " 'future',\n",
       " '.',\n",
       " 'However',\n",
       " ',',\n",
       " 'technological',\n",
       " 'advancement',\n",
       " 'comes',\n",
       " 'responsibility',\n",
       " 'ensure',\n",
       " 'ethical',\n",
       " 'unbiased',\n",
       " 'development',\n",
       " '.',\n",
       " 'Researchers',\n",
       " 'developers',\n",
       " 'must',\n",
       " 'work',\n",
       " 'together',\n",
       " 'create',\n",
       " 'systems',\n",
       " 'transparent',\n",
       " ',',\n",
       " 'accountable',\n",
       " ',',\n",
       " 'beneficial',\n",
       " 'humanity']"
      ]
     },
     "execution_count": 71,
     "metadata": {},
     "output_type": "execute_result"
    }
   ],
   "source": [
    "x"
   ]
  },
  {
   "cell_type": "code",
   "execution_count": 72,
   "id": "1691dddc-8872-41b5-9733-0cc54d605454",
   "metadata": {},
   "outputs": [],
   "source": [
    "from nltk.stem import PorterStemmer"
   ]
  },
  {
   "cell_type": "code",
   "execution_count": 73,
   "id": "3636f0a3-2871-4629-b0bc-d306c646fa61",
   "metadata": {},
   "outputs": [],
   "source": [
    "ps=PorterStemmer()"
   ]
  },
  {
   "cell_type": "code",
   "execution_count": 74,
   "id": "e1a5cd75-58e7-4f71-9d02-8a2fdfb0b3d7",
   "metadata": {},
   "outputs": [
    {
     "data": {
      "text/plain": [
       "'work'"
      ]
     },
     "execution_count": 74,
     "metadata": {},
     "output_type": "execute_result"
    }
   ],
   "source": [
    "ps.stem('working')"
   ]
  },
  {
   "cell_type": "code",
   "execution_count": 75,
   "id": "fbf26bf3-4e8a-4982-a006-15c2fc285cce",
   "metadata": {},
   "outputs": [],
   "source": [
    "y=[ps.stem(word) for word in x]"
   ]
  },
  {
   "cell_type": "code",
   "execution_count": 76,
   "id": "9329397f-eea4-46e3-91b7-dbd896baf776",
   "metadata": {},
   "outputs": [
    {
     "data": {
      "text/plain": [
       "['artifici',\n",
       " 'intellig',\n",
       " 'rapidli',\n",
       " 'transform',\n",
       " 'world',\n",
       " 'live',\n",
       " '.',\n",
       " 'self-driv',\n",
       " 'car',\n",
       " 'virtual',\n",
       " 'assist',\n",
       " ',',\n",
       " 'ai',\n",
       " 'play',\n",
       " 'crucial',\n",
       " 'role',\n",
       " 'shape',\n",
       " 'futur',\n",
       " '.',\n",
       " 'howev',\n",
       " ',',\n",
       " 'technolog',\n",
       " 'advanc',\n",
       " 'come',\n",
       " 'respons',\n",
       " 'ensur',\n",
       " 'ethic',\n",
       " 'unbias',\n",
       " 'develop',\n",
       " '.',\n",
       " 'research',\n",
       " 'develop',\n",
       " 'must',\n",
       " 'work',\n",
       " 'togeth',\n",
       " 'creat',\n",
       " 'system',\n",
       " 'transpar',\n",
       " ',',\n",
       " 'account',\n",
       " ',',\n",
       " 'benefici',\n",
       " 'human']"
      ]
     },
     "execution_count": 76,
     "metadata": {},
     "output_type": "execute_result"
    }
   ],
   "source": [
    "y"
   ]
  },
  {
   "cell_type": "code",
   "execution_count": 77,
   "id": "b015a161-0a75-44cb-9b93-b552e9791c21",
   "metadata": {},
   "outputs": [],
   "source": [
    "from nltk.stem import WordNetLemmatizer"
   ]
  },
  {
   "cell_type": "code",
   "execution_count": 78,
   "id": "12fed617-afb2-4e7d-bf80-b32f2ead4d16",
   "metadata": {},
   "outputs": [],
   "source": [
    "wnl=WordNetLemmatizer()"
   ]
  },
  {
   "cell_type": "code",
   "execution_count": 79,
   "id": "1c0a1dfe-072c-4f02-8f11-eda305fd2642",
   "metadata": {},
   "outputs": [
    {
     "data": {
      "text/plain": [
       "'work'"
      ]
     },
     "execution_count": 79,
     "metadata": {},
     "output_type": "execute_result"
    }
   ],
   "source": [
    "wnl.lemmatize('working', pos='v')"
   ]
  },
  {
   "cell_type": "code",
   "execution_count": 80,
   "id": "3d6b3e63-71da-43dd-a387-f0b718b72087",
   "metadata": {},
   "outputs": [
    {
     "name": "stdout",
     "output_type": "stream",
     "text": [
      "went\n",
      "go\n"
     ]
    }
   ],
   "source": [
    "print(ps.stem('went'))\n",
    "print(wnl.lemmatize('went', pos='v'))"
   ]
  },
  {
   "cell_type": "code",
   "execution_count": 81,
   "id": "04261f31-33a0-4725-836c-cb5f94fc2522",
   "metadata": {},
   "outputs": [],
   "source": [
    "z=[wnl.lemmatize(word,pos='v') for word in x]"
   ]
  },
  {
   "cell_type": "code",
   "execution_count": 82,
   "id": "405e9bd9-54f5-4129-82a2-d9462f3e22c4",
   "metadata": {},
   "outputs": [
    {
     "data": {
      "text/plain": [
       "['Artificial',\n",
       " 'intelligence',\n",
       " 'rapidly',\n",
       " 'transform',\n",
       " 'world',\n",
       " 'live',\n",
       " '.',\n",
       " 'self-driving',\n",
       " 'cars',\n",
       " 'virtual',\n",
       " 'assistants',\n",
       " ',',\n",
       " 'AI',\n",
       " 'play',\n",
       " 'crucial',\n",
       " 'role',\n",
       " 'shape',\n",
       " 'future',\n",
       " '.',\n",
       " 'However',\n",
       " ',',\n",
       " 'technological',\n",
       " 'advancement',\n",
       " 'come',\n",
       " 'responsibility',\n",
       " 'ensure',\n",
       " 'ethical',\n",
       " 'unbiased',\n",
       " 'development',\n",
       " '.',\n",
       " 'Researchers',\n",
       " 'developers',\n",
       " 'must',\n",
       " 'work',\n",
       " 'together',\n",
       " 'create',\n",
       " 'systems',\n",
       " 'transparent',\n",
       " ',',\n",
       " 'accountable',\n",
       " ',',\n",
       " 'beneficial',\n",
       " 'humanity']"
      ]
     },
     "execution_count": 82,
     "metadata": {},
     "output_type": "execute_result"
    }
   ],
   "source": [
    "z"
   ]
  },
  {
   "cell_type": "code",
   "execution_count": 83,
   "id": "b2cac25a-6320-4b6f-9e31-6fe00ffc4283",
   "metadata": {},
   "outputs": [],
   "source": [
    "import string"
   ]
  },
  {
   "cell_type": "code",
   "execution_count": 84,
   "id": "a53be182-42ef-49ac-8f8c-d1034174b133",
   "metadata": {},
   "outputs": [
    {
     "data": {
      "text/plain": [
       "'!\"#$%&\\'()*+,-./:;<=>?@[\\\\]^_`{|}~'"
      ]
     },
     "execution_count": 84,
     "metadata": {},
     "output_type": "execute_result"
    }
   ],
   "source": [
    "string.punctuation"
   ]
  },
  {
   "cell_type": "code",
   "execution_count": 85,
   "id": "4d1b0a9a-9973-4d50-8a83-5401cfb7cd1f",
   "metadata": {},
   "outputs": [],
   "source": [
    "t=[word for word in words if word not in string.punctuation]"
   ]
  },
  {
   "cell_type": "code",
   "execution_count": 86,
   "id": "387eff51-e493-4c00-a53d-6122da689483",
   "metadata": {},
   "outputs": [
    {
     "data": {
      "text/plain": [
       "['Artificial',\n",
       " 'intelligence',\n",
       " 'is',\n",
       " 'rapidly',\n",
       " 'transforming',\n",
       " 'the',\n",
       " 'world',\n",
       " 'we',\n",
       " 'live',\n",
       " 'in',\n",
       " 'From',\n",
       " 'self-driving',\n",
       " 'cars',\n",
       " 'to',\n",
       " 'virtual',\n",
       " 'assistants',\n",
       " 'AI',\n",
       " 'is',\n",
       " 'playing',\n",
       " 'a',\n",
       " 'crucial',\n",
       " 'role',\n",
       " 'in',\n",
       " 'shaping',\n",
       " 'the',\n",
       " 'future',\n",
       " 'However',\n",
       " 'with',\n",
       " 'this',\n",
       " 'technological',\n",
       " 'advancement',\n",
       " 'comes',\n",
       " 'the',\n",
       " 'responsibility',\n",
       " 'to',\n",
       " 'ensure',\n",
       " 'ethical',\n",
       " 'and',\n",
       " 'unbiased',\n",
       " 'development',\n",
       " 'Researchers',\n",
       " 'and',\n",
       " 'developers',\n",
       " 'must',\n",
       " 'work',\n",
       " 'together',\n",
       " 'to',\n",
       " 'create',\n",
       " 'systems',\n",
       " 'that',\n",
       " 'are',\n",
       " 'transparent',\n",
       " 'accountable',\n",
       " 'and',\n",
       " 'beneficial',\n",
       " 'for',\n",
       " 'all',\n",
       " 'of',\n",
       " 'humanity']"
      ]
     },
     "execution_count": 86,
     "metadata": {},
     "output_type": "execute_result"
    }
   ],
   "source": [
    "t"
   ]
  },
  {
   "cell_type": "code",
   "execution_count": 87,
   "id": "4dfbaeb7-8d42-4c0f-8059-7a5e41f97317",
   "metadata": {},
   "outputs": [],
   "source": [
    "from nltk import pos_tag"
   ]
  },
  {
   "cell_type": "code",
   "execution_count": 88,
   "id": "948b6381-672c-4bbe-9bfe-06522996eb64",
   "metadata": {},
   "outputs": [
    {
     "data": {
      "text/plain": [
       "[('Artificial', 'JJ'),\n",
       " ('intelligence', 'NN'),\n",
       " ('is', 'VBZ'),\n",
       " ('rapidly', 'RB'),\n",
       " ('transforming', 'VBG'),\n",
       " ('the', 'DT'),\n",
       " ('world', 'NN'),\n",
       " ('we', 'PRP'),\n",
       " ('live', 'VBP'),\n",
       " ('in', 'IN'),\n",
       " ('From', 'NNP'),\n",
       " ('self-driving', 'JJ'),\n",
       " ('cars', 'NNS'),\n",
       " ('to', 'TO'),\n",
       " ('virtual', 'JJ'),\n",
       " ('assistants', 'NNS'),\n",
       " ('AI', 'NNP'),\n",
       " ('is', 'VBZ'),\n",
       " ('playing', 'VBG'),\n",
       " ('a', 'DT'),\n",
       " ('crucial', 'JJ'),\n",
       " ('role', 'NN'),\n",
       " ('in', 'IN'),\n",
       " ('shaping', 'VBG'),\n",
       " ('the', 'DT'),\n",
       " ('future', 'NN'),\n",
       " ('However', 'RB'),\n",
       " ('with', 'IN'),\n",
       " ('this', 'DT'),\n",
       " ('technological', 'JJ'),\n",
       " ('advancement', 'NN'),\n",
       " ('comes', 'VBZ'),\n",
       " ('the', 'DT'),\n",
       " ('responsibility', 'NN'),\n",
       " ('to', 'TO'),\n",
       " ('ensure', 'VB'),\n",
       " ('ethical', 'JJ'),\n",
       " ('and', 'CC'),\n",
       " ('unbiased', 'JJ'),\n",
       " ('development', 'NN'),\n",
       " ('Researchers', 'NNP'),\n",
       " ('and', 'CC'),\n",
       " ('developers', 'NNS'),\n",
       " ('must', 'MD'),\n",
       " ('work', 'VB'),\n",
       " ('together', 'RB'),\n",
       " ('to', 'TO'),\n",
       " ('create', 'VB'),\n",
       " ('systems', 'NNS'),\n",
       " ('that', 'WDT'),\n",
       " ('are', 'VBP'),\n",
       " ('transparent', 'JJ'),\n",
       " ('accountable', 'JJ'),\n",
       " ('and', 'CC'),\n",
       " ('beneficial', 'JJ'),\n",
       " ('for', 'IN'),\n",
       " ('all', 'DT'),\n",
       " ('of', 'IN'),\n",
       " ('humanity', 'NN')]"
      ]
     },
     "execution_count": 88,
     "metadata": {},
     "output_type": "execute_result"
    }
   ],
   "source": [
    "pos_tag(t)"
   ]
  },
  {
   "cell_type": "code",
   "execution_count": 89,
   "id": "f488620e-8fbc-4cb6-a1b6-b924ec147398",
   "metadata": {},
   "outputs": [
    {
     "name": "stderr",
     "output_type": "stream",
     "text": [
      "[nltk_data] Downloading package averaged_perceptron_tagger_eng to\n",
      "[nltk_data]     C:\\Users\\Atharva\\AppData\\Roaming\\nltk_data...\n",
      "[nltk_data]   Package averaged_perceptron_tagger_eng is already up-to-\n",
      "[nltk_data]       date!\n"
     ]
    },
    {
     "data": {
      "text/plain": [
       "True"
      ]
     },
     "execution_count": 89,
     "metadata": {},
     "output_type": "execute_result"
    }
   ],
   "source": [
    "nltk.download('averaged_perceptron_tagger_eng')"
   ]
  },
  {
   "cell_type": "code",
   "execution_count": 90,
   "id": "4edfc40e-a259-4290-95f7-ec109b4a17cd",
   "metadata": {},
   "outputs": [],
   "source": [
    "from sklearn.feature_extraction.text import TfidfVectorizer"
   ]
  },
  {
   "cell_type": "code",
   "execution_count": 91,
   "id": "9471dd9b-3a6c-4823-817a-55be3c900342",
   "metadata": {},
   "outputs": [],
   "source": [
    "tfidf=TfidfVectorizer()"
   ]
  },
  {
   "cell_type": "code",
   "execution_count": 92,
   "id": "5c2d1a5f-75b7-45cd-aded-ba499bac2188",
   "metadata": {},
   "outputs": [],
   "source": [
    "v=tfidf.fit_transform(t)"
   ]
  },
  {
   "cell_type": "code",
   "execution_count": 93,
   "id": "574c9fc6-eb91-49df-b800-237ca301c385",
   "metadata": {},
   "outputs": [
    {
     "data": {
      "text/plain": [
       "(59, 51)"
      ]
     },
     "execution_count": 93,
     "metadata": {},
     "output_type": "execute_result"
    }
   ],
   "source": [
    "v.shape"
   ]
  },
  {
   "cell_type": "code",
   "execution_count": 94,
   "id": "171c25b2-fb81-42b8-9026-34a720634e37",
   "metadata": {},
   "outputs": [
    {
     "data": {
      "text/html": [
       "<div>\n",
       "<style scoped>\n",
       "    .dataframe tbody tr th:only-of-type {\n",
       "        vertical-align: middle;\n",
       "    }\n",
       "\n",
       "    .dataframe tbody tr th {\n",
       "        vertical-align: top;\n",
       "    }\n",
       "\n",
       "    .dataframe thead th {\n",
       "        text-align: right;\n",
       "    }\n",
       "</style>\n",
       "<table border=\"1\" class=\"dataframe\">\n",
       "  <thead>\n",
       "    <tr style=\"text-align: right;\">\n",
       "      <th></th>\n",
       "      <th>0</th>\n",
       "    </tr>\n",
       "  </thead>\n",
       "  <tbody>\n",
       "    <tr>\n",
       "      <th>0</th>\n",
       "      <td>&lt;Compressed Sparse Row sparse matrix of dtype ...</td>\n",
       "    </tr>\n",
       "    <tr>\n",
       "      <th>1</th>\n",
       "      <td>&lt;Compressed Sparse Row sparse matrix of dtype ...</td>\n",
       "    </tr>\n",
       "    <tr>\n",
       "      <th>2</th>\n",
       "      <td>&lt;Compressed Sparse Row sparse matrix of dtype ...</td>\n",
       "    </tr>\n",
       "    <tr>\n",
       "      <th>3</th>\n",
       "      <td>&lt;Compressed Sparse Row sparse matrix of dtype ...</td>\n",
       "    </tr>\n",
       "    <tr>\n",
       "      <th>4</th>\n",
       "      <td>&lt;Compressed Sparse Row sparse matrix of dtype ...</td>\n",
       "    </tr>\n",
       "    <tr>\n",
       "      <th>5</th>\n",
       "      <td>&lt;Compressed Sparse Row sparse matrix of dtype ...</td>\n",
       "    </tr>\n",
       "    <tr>\n",
       "      <th>6</th>\n",
       "      <td>&lt;Compressed Sparse Row sparse matrix of dtype ...</td>\n",
       "    </tr>\n",
       "    <tr>\n",
       "      <th>7</th>\n",
       "      <td>&lt;Compressed Sparse Row sparse matrix of dtype ...</td>\n",
       "    </tr>\n",
       "    <tr>\n",
       "      <th>8</th>\n",
       "      <td>&lt;Compressed Sparse Row sparse matrix of dtype ...</td>\n",
       "    </tr>\n",
       "    <tr>\n",
       "      <th>9</th>\n",
       "      <td>&lt;Compressed Sparse Row sparse matrix of dtype ...</td>\n",
       "    </tr>\n",
       "    <tr>\n",
       "      <th>10</th>\n",
       "      <td>&lt;Compressed Sparse Row sparse matrix of dtype ...</td>\n",
       "    </tr>\n",
       "    <tr>\n",
       "      <th>11</th>\n",
       "      <td>&lt;Compressed Sparse Row sparse matrix of dtype ...</td>\n",
       "    </tr>\n",
       "    <tr>\n",
       "      <th>12</th>\n",
       "      <td>&lt;Compressed Sparse Row sparse matrix of dtype ...</td>\n",
       "    </tr>\n",
       "    <tr>\n",
       "      <th>13</th>\n",
       "      <td>&lt;Compressed Sparse Row sparse matrix of dtype ...</td>\n",
       "    </tr>\n",
       "    <tr>\n",
       "      <th>14</th>\n",
       "      <td>&lt;Compressed Sparse Row sparse matrix of dtype ...</td>\n",
       "    </tr>\n",
       "    <tr>\n",
       "      <th>15</th>\n",
       "      <td>&lt;Compressed Sparse Row sparse matrix of dtype ...</td>\n",
       "    </tr>\n",
       "    <tr>\n",
       "      <th>16</th>\n",
       "      <td>&lt;Compressed Sparse Row sparse matrix of dtype ...</td>\n",
       "    </tr>\n",
       "    <tr>\n",
       "      <th>17</th>\n",
       "      <td>&lt;Compressed Sparse Row sparse matrix of dtype ...</td>\n",
       "    </tr>\n",
       "    <tr>\n",
       "      <th>18</th>\n",
       "      <td>&lt;Compressed Sparse Row sparse matrix of dtype ...</td>\n",
       "    </tr>\n",
       "    <tr>\n",
       "      <th>19</th>\n",
       "      <td>&lt;Compressed Sparse Row sparse matrix of dtype ...</td>\n",
       "    </tr>\n",
       "    <tr>\n",
       "      <th>20</th>\n",
       "      <td>&lt;Compressed Sparse Row sparse matrix of dtype ...</td>\n",
       "    </tr>\n",
       "    <tr>\n",
       "      <th>21</th>\n",
       "      <td>&lt;Compressed Sparse Row sparse matrix of dtype ...</td>\n",
       "    </tr>\n",
       "    <tr>\n",
       "      <th>22</th>\n",
       "      <td>&lt;Compressed Sparse Row sparse matrix of dtype ...</td>\n",
       "    </tr>\n",
       "    <tr>\n",
       "      <th>23</th>\n",
       "      <td>&lt;Compressed Sparse Row sparse matrix of dtype ...</td>\n",
       "    </tr>\n",
       "    <tr>\n",
       "      <th>24</th>\n",
       "      <td>&lt;Compressed Sparse Row sparse matrix of dtype ...</td>\n",
       "    </tr>\n",
       "    <tr>\n",
       "      <th>25</th>\n",
       "      <td>&lt;Compressed Sparse Row sparse matrix of dtype ...</td>\n",
       "    </tr>\n",
       "    <tr>\n",
       "      <th>26</th>\n",
       "      <td>&lt;Compressed Sparse Row sparse matrix of dtype ...</td>\n",
       "    </tr>\n",
       "    <tr>\n",
       "      <th>27</th>\n",
       "      <td>&lt;Compressed Sparse Row sparse matrix of dtype ...</td>\n",
       "    </tr>\n",
       "    <tr>\n",
       "      <th>28</th>\n",
       "      <td>&lt;Compressed Sparse Row sparse matrix of dtype ...</td>\n",
       "    </tr>\n",
       "    <tr>\n",
       "      <th>29</th>\n",
       "      <td>&lt;Compressed Sparse Row sparse matrix of dtype ...</td>\n",
       "    </tr>\n",
       "    <tr>\n",
       "      <th>30</th>\n",
       "      <td>&lt;Compressed Sparse Row sparse matrix of dtype ...</td>\n",
       "    </tr>\n",
       "    <tr>\n",
       "      <th>31</th>\n",
       "      <td>&lt;Compressed Sparse Row sparse matrix of dtype ...</td>\n",
       "    </tr>\n",
       "    <tr>\n",
       "      <th>32</th>\n",
       "      <td>&lt;Compressed Sparse Row sparse matrix of dtype ...</td>\n",
       "    </tr>\n",
       "    <tr>\n",
       "      <th>33</th>\n",
       "      <td>&lt;Compressed Sparse Row sparse matrix of dtype ...</td>\n",
       "    </tr>\n",
       "    <tr>\n",
       "      <th>34</th>\n",
       "      <td>&lt;Compressed Sparse Row sparse matrix of dtype ...</td>\n",
       "    </tr>\n",
       "    <tr>\n",
       "      <th>35</th>\n",
       "      <td>&lt;Compressed Sparse Row sparse matrix of dtype ...</td>\n",
       "    </tr>\n",
       "    <tr>\n",
       "      <th>36</th>\n",
       "      <td>&lt;Compressed Sparse Row sparse matrix of dtype ...</td>\n",
       "    </tr>\n",
       "    <tr>\n",
       "      <th>37</th>\n",
       "      <td>&lt;Compressed Sparse Row sparse matrix of dtype ...</td>\n",
       "    </tr>\n",
       "    <tr>\n",
       "      <th>38</th>\n",
       "      <td>&lt;Compressed Sparse Row sparse matrix of dtype ...</td>\n",
       "    </tr>\n",
       "    <tr>\n",
       "      <th>39</th>\n",
       "      <td>&lt;Compressed Sparse Row sparse matrix of dtype ...</td>\n",
       "    </tr>\n",
       "    <tr>\n",
       "      <th>40</th>\n",
       "      <td>&lt;Compressed Sparse Row sparse matrix of dtype ...</td>\n",
       "    </tr>\n",
       "    <tr>\n",
       "      <th>41</th>\n",
       "      <td>&lt;Compressed Sparse Row sparse matrix of dtype ...</td>\n",
       "    </tr>\n",
       "    <tr>\n",
       "      <th>42</th>\n",
       "      <td>&lt;Compressed Sparse Row sparse matrix of dtype ...</td>\n",
       "    </tr>\n",
       "    <tr>\n",
       "      <th>43</th>\n",
       "      <td>&lt;Compressed Sparse Row sparse matrix of dtype ...</td>\n",
       "    </tr>\n",
       "    <tr>\n",
       "      <th>44</th>\n",
       "      <td>&lt;Compressed Sparse Row sparse matrix of dtype ...</td>\n",
       "    </tr>\n",
       "    <tr>\n",
       "      <th>45</th>\n",
       "      <td>&lt;Compressed Sparse Row sparse matrix of dtype ...</td>\n",
       "    </tr>\n",
       "    <tr>\n",
       "      <th>46</th>\n",
       "      <td>&lt;Compressed Sparse Row sparse matrix of dtype ...</td>\n",
       "    </tr>\n",
       "    <tr>\n",
       "      <th>47</th>\n",
       "      <td>&lt;Compressed Sparse Row sparse matrix of dtype ...</td>\n",
       "    </tr>\n",
       "    <tr>\n",
       "      <th>48</th>\n",
       "      <td>&lt;Compressed Sparse Row sparse matrix of dtype ...</td>\n",
       "    </tr>\n",
       "    <tr>\n",
       "      <th>49</th>\n",
       "      <td>&lt;Compressed Sparse Row sparse matrix of dtype ...</td>\n",
       "    </tr>\n",
       "    <tr>\n",
       "      <th>50</th>\n",
       "      <td>&lt;Compressed Sparse Row sparse matrix of dtype ...</td>\n",
       "    </tr>\n",
       "    <tr>\n",
       "      <th>51</th>\n",
       "      <td>&lt;Compressed Sparse Row sparse matrix of dtype ...</td>\n",
       "    </tr>\n",
       "    <tr>\n",
       "      <th>52</th>\n",
       "      <td>&lt;Compressed Sparse Row sparse matrix of dtype ...</td>\n",
       "    </tr>\n",
       "    <tr>\n",
       "      <th>53</th>\n",
       "      <td>&lt;Compressed Sparse Row sparse matrix of dtype ...</td>\n",
       "    </tr>\n",
       "    <tr>\n",
       "      <th>54</th>\n",
       "      <td>&lt;Compressed Sparse Row sparse matrix of dtype ...</td>\n",
       "    </tr>\n",
       "    <tr>\n",
       "      <th>55</th>\n",
       "      <td>&lt;Compressed Sparse Row sparse matrix of dtype ...</td>\n",
       "    </tr>\n",
       "    <tr>\n",
       "      <th>56</th>\n",
       "      <td>&lt;Compressed Sparse Row sparse matrix of dtype ...</td>\n",
       "    </tr>\n",
       "    <tr>\n",
       "      <th>57</th>\n",
       "      <td>&lt;Compressed Sparse Row sparse matrix of dtype ...</td>\n",
       "    </tr>\n",
       "    <tr>\n",
       "      <th>58</th>\n",
       "      <td>&lt;Compressed Sparse Row sparse matrix of dtype ...</td>\n",
       "    </tr>\n",
       "  </tbody>\n",
       "</table>\n",
       "</div>"
      ],
      "text/plain": [
       "                                                    0\n",
       "0   <Compressed Sparse Row sparse matrix of dtype ...\n",
       "1   <Compressed Sparse Row sparse matrix of dtype ...\n",
       "2   <Compressed Sparse Row sparse matrix of dtype ...\n",
       "3   <Compressed Sparse Row sparse matrix of dtype ...\n",
       "4   <Compressed Sparse Row sparse matrix of dtype ...\n",
       "5   <Compressed Sparse Row sparse matrix of dtype ...\n",
       "6   <Compressed Sparse Row sparse matrix of dtype ...\n",
       "7   <Compressed Sparse Row sparse matrix of dtype ...\n",
       "8   <Compressed Sparse Row sparse matrix of dtype ...\n",
       "9   <Compressed Sparse Row sparse matrix of dtype ...\n",
       "10  <Compressed Sparse Row sparse matrix of dtype ...\n",
       "11  <Compressed Sparse Row sparse matrix of dtype ...\n",
       "12  <Compressed Sparse Row sparse matrix of dtype ...\n",
       "13  <Compressed Sparse Row sparse matrix of dtype ...\n",
       "14  <Compressed Sparse Row sparse matrix of dtype ...\n",
       "15  <Compressed Sparse Row sparse matrix of dtype ...\n",
       "16  <Compressed Sparse Row sparse matrix of dtype ...\n",
       "17  <Compressed Sparse Row sparse matrix of dtype ...\n",
       "18  <Compressed Sparse Row sparse matrix of dtype ...\n",
       "19  <Compressed Sparse Row sparse matrix of dtype ...\n",
       "20  <Compressed Sparse Row sparse matrix of dtype ...\n",
       "21  <Compressed Sparse Row sparse matrix of dtype ...\n",
       "22  <Compressed Sparse Row sparse matrix of dtype ...\n",
       "23  <Compressed Sparse Row sparse matrix of dtype ...\n",
       "24  <Compressed Sparse Row sparse matrix of dtype ...\n",
       "25  <Compressed Sparse Row sparse matrix of dtype ...\n",
       "26  <Compressed Sparse Row sparse matrix of dtype ...\n",
       "27  <Compressed Sparse Row sparse matrix of dtype ...\n",
       "28  <Compressed Sparse Row sparse matrix of dtype ...\n",
       "29  <Compressed Sparse Row sparse matrix of dtype ...\n",
       "30  <Compressed Sparse Row sparse matrix of dtype ...\n",
       "31  <Compressed Sparse Row sparse matrix of dtype ...\n",
       "32  <Compressed Sparse Row sparse matrix of dtype ...\n",
       "33  <Compressed Sparse Row sparse matrix of dtype ...\n",
       "34  <Compressed Sparse Row sparse matrix of dtype ...\n",
       "35  <Compressed Sparse Row sparse matrix of dtype ...\n",
       "36  <Compressed Sparse Row sparse matrix of dtype ...\n",
       "37  <Compressed Sparse Row sparse matrix of dtype ...\n",
       "38  <Compressed Sparse Row sparse matrix of dtype ...\n",
       "39  <Compressed Sparse Row sparse matrix of dtype ...\n",
       "40  <Compressed Sparse Row sparse matrix of dtype ...\n",
       "41  <Compressed Sparse Row sparse matrix of dtype ...\n",
       "42  <Compressed Sparse Row sparse matrix of dtype ...\n",
       "43  <Compressed Sparse Row sparse matrix of dtype ...\n",
       "44  <Compressed Sparse Row sparse matrix of dtype ...\n",
       "45  <Compressed Sparse Row sparse matrix of dtype ...\n",
       "46  <Compressed Sparse Row sparse matrix of dtype ...\n",
       "47  <Compressed Sparse Row sparse matrix of dtype ...\n",
       "48  <Compressed Sparse Row sparse matrix of dtype ...\n",
       "49  <Compressed Sparse Row sparse matrix of dtype ...\n",
       "50  <Compressed Sparse Row sparse matrix of dtype ...\n",
       "51  <Compressed Sparse Row sparse matrix of dtype ...\n",
       "52  <Compressed Sparse Row sparse matrix of dtype ...\n",
       "53  <Compressed Sparse Row sparse matrix of dtype ...\n",
       "54  <Compressed Sparse Row sparse matrix of dtype ...\n",
       "55  <Compressed Sparse Row sparse matrix of dtype ...\n",
       "56  <Compressed Sparse Row sparse matrix of dtype ...\n",
       "57  <Compressed Sparse Row sparse matrix of dtype ...\n",
       "58  <Compressed Sparse Row sparse matrix of dtype ..."
      ]
     },
     "execution_count": 94,
     "metadata": {},
     "output_type": "execute_result"
    }
   ],
   "source": [
    "import pandas as pd\n",
    "pd.DataFrame(v)"
   ]
  }
 ],
 "metadata": {
  "kernelspec": {
   "display_name": "Python 3 (ipykernel)",
   "language": "python",
   "name": "python3"
  },
  "language_info": {
   "codemirror_mode": {
    "name": "ipython",
    "version": 3
   },
   "file_extension": ".py",
   "mimetype": "text/x-python",
   "name": "python",
   "nbconvert_exporter": "python",
   "pygments_lexer": "ipython3",
   "version": "3.13.2"
  }
 },
 "nbformat": 4,
 "nbformat_minor": 5
}
